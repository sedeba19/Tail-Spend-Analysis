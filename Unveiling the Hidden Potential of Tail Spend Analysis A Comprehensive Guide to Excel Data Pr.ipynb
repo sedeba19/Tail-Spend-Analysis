{
 "cells": [
  {
   "cell_type": "markdown",
   "metadata": {},
   "source": [
    "<h3><div style=\"border-bottom: 1px solid #ccc;\n",
    "            padding-bottom: 10px;\n",
    "            margin-bottom: 10px;\n",
    "            font-size: 42px;\n",
    "            font-weight: bold;\">Unveiling the Hidden Potential of Tail Spend Analysis: A Comprehensive Guide to Excel Data Preparation with Python</div></h3>"
   ]
  },
  {
   "cell_type": "markdown",
   "metadata": {},
   "source": [
    "<h3><div style=\"border-bottom: 1px solid #ccc;\n",
    "            padding-bottom: 10px;\n",
    "            margin-bottom: 10px;\n",
    "            font-size: 18px;\n",
    "            font-weight: bold;\">Table of Contents</div></h3>\n",
    "\n",
    "- [📝 Introduction](#intro)<br><br>\n",
    "- [🧐 Objective](#objective)<br><br>\n",
    "- [📑 Data Preparation](#preparation)<br><br>\n",
    "- [🕵️‍♂️ Result](#result)<br><br>\n",
    "- [⚙️ Generating a new Dataset](#dataset)<br><br>\n",
    "- [✍🏻 Conclusion](#conclusion)<br><br>"
   ]
  },
  {
   "cell_type": "markdown",
   "metadata": {},
   "source": [
    "<h1 id = 'intro' style=\"border-bottom: 1px solid #ccc;\n",
    "                        padding-bottom: 10px;\n",
    "                        margin-bottom: 10px;\n",
    "                        font-size: 42px;\n",
    "                        font-weight: bold;\n",
    "                        font-family: Monaco\">📝 Introduction</h1>"
   ]
  },
  {
   "cell_type": "markdown",
   "metadata": {},
   "source": [
    "Tail Spend Analysis has a history dating back to World War II, and it has been elucidated through various guidelines. Perhaps the most renowned of these is the 80/20 rule, also known as the Pareto principle. While having a conceptual understanding is invaluable, the practical implementation of such principles presents its own set of challenges.\n",
    "\n",
    "In the realm of procurement, datasets are frequently beset with issues of cleanliness, and a multitude of complexities often render the straightforward application of the 80/20 rule unfeasible. To address these challenges, a plethora of spend analysis tools have emerged in the market. Many of these tools boast advanced machine learning or AI capabilities, promising seemingly magical cost-saving outcomes. However, it's essential to note that reality doesn't always align with these claims.\n",
    "\n",
    "The true identification of cost-saving opportunities hinges not solely on the capabilities of the tool but on the skill set of the buyer. While these tools can certainly streamline the process, the buyer's ability to discern what they are seeking within the data remains paramount. In essence, no tool can replace the buyer's expertise in this regard.\n",
    "\n",
    "Join us on a journey through this comprehensive guide as we uncover the latent potential within tail spend management, leveraging the formidable capabilities of Python to prepare Excel data."
   ]
  },
  {
   "cell_type": "markdown",
   "metadata": {},
   "source": [
    "<h1 id = 'objective' style=\"border-bottom: 1px solid #ccc;\n",
    "                        padding-bottom: 10px;\n",
    "                        margin-bottom: 10px;\n",
    "                        font-size: 42px;\n",
    "                        font-weight: bold;\n",
    "                        font-family: Monaco\">🧐 Objective</h1>"
   ]
  },
  {
   "cell_type": "markdown",
   "metadata": {},
   "source": [
    "Before we proceed to define our objective, let's begin by addressing the question: What is tail spend?\n",
    "\n",
    "Tail spend is a term used to describe the portion of an organization's expenditures allocated to purchases that represent roughly 80% of transactions but contribute only about 20% to the total spend volume. To help visualize this concept, refer to the accompanying image for a practical example."
   ]
  },
  {
   "cell_type": "markdown",
   "metadata": {},
   "source": [
    "![Alt text](image-1.png)"
   ]
  },
  {
   "cell_type": "markdown",
   "metadata": {},
   "source": [
    "Source: https://simfoni.com/tail-spend-management-guide/"
   ]
  },
  {
   "cell_type": "markdown",
   "metadata": {},
   "source": [
    "**Objective** \n",
    "\n",
    "The objective of this study is to chart the data for Hidden Tail from our given dataset using Python."
   ]
  },
  {
   "cell_type": "markdown",
   "metadata": {},
   "source": [
    "<h1 id = 'preparation' style=\"border-bottom: 1px solid #ccc;\n",
    "                        padding-bottom: 10px;\n",
    "                        margin-bottom: 10px;\n",
    "                        font-size: 42px;\n",
    "                        font-weight: bold;\n",
    "                        font-family: Monaco\">📑 Data Preparation</h1>"
   ]
  },
  {
   "cell_type": "markdown",
   "metadata": {},
   "source": [
    "Prior to initiating any analytical activities, it is imperative to gain a comprehensive understanding of the dataset in its current state and the information it encompasses. This preliminary step is mandatory and serves as the foundation upon which we can craft an effective strategy for further dataset processing. Below, I outline a series of swift assessments that I routinely conduct before embarking on any analysis:\n",
    "\n",
    "1. **Data Completeness:** Verify if the dataset is complete and if there are any missing values that need to be addressed.\n",
    "\n",
    "2. **Data Quality:** Assess the overall quality of the data, including potential errors, inconsistencies, or outliers.\n",
    "\n",
    "3. **Data Structure:** Understand the structure of the dataset, including the types of variables, their formats, and relationships between them.\n",
    "\n",
    "4. **Data Distribution:** Examine the distribution of key variables to identify potential patterns or anomalies.\n",
    "\n",
    "5. **Data Relevance:** Determine if the dataset contains the necessary information for the intended analysis or if additional data sources are required.\n",
    "\n",
    "6. **Data Documentation:** Review any available documentation or metadata to understand the context and source of the data.\n",
    "\n",
    "7. **Data Security:** Ensure that data handling and analysis comply with data security and privacy regulations.\n",
    "\n",
    "8. **Data Exploration:** Conduct initial data exploration to identify potential trends or insights that may guide the analysis.\n",
    "\n",
    "By diligently conducting these checks, we establish a solid groundwork for robust and informed data analysis and strategy development."
   ]
  },
  {
   "cell_type": "markdown",
   "metadata": {},
   "source": [
    "The dataset used for this study is in Github, you may find the link here: [Tail Spend Dataset](https://github.com/sedeba19/Tail-Spend-Dataset)"
   ]
  },
  {
   "cell_type": "markdown",
   "metadata": {},
   "source": [
    "We are about to add now new columns to increase our dataset's depth and range of information. These additional columns are:\n",
    "* **Spend Class:** is to separate Major Spend from Tail Spend as a group. By successfully dividing Major spend commodity items from Tail spend item, we can develop different strategies for both accordingly. To decide whether a particular commodity item belongs to either Tail or Major spend category, we will use our good old Pareto or 80/20 principle. Every commodity item that belongs within the Top 80% spend class will be labeled as Major. Every commodity item that belongs to the bottom 20% spend class will be labeled as Tail Spend.\n",
    "\n",
    "* **Contract:** measures whether a particular commodity item has been sourced from a via contract or not (i.e. Spot Purchase). The objective is to find commodities that are produced outside of the Contracts or commodities that do not have any contract. We should always strive for securing have a longer duration and often with fixed quantity and/or price commitments, the buyer is likely to get a better price per unit that from that Individual/Spot purchase. Like Spend Class, this label is also a binary field. For every item that is purchased, if the contract number exists, we will write \"Contract Avaialable, otherwise, we will write \"Contract Not Available\"\n",
    "\n",
    "* **PO Availability:** measures whether a particular commodity item has been purchased via a Purchase Order or not. Please note purchases conducted with a PO are often termed as \"Maverick Purchases\" and the spend value under such purchases is often called \"Maverick Spend\". The best practice suggest minimizing the Maverick Spend as much as possible. By adding this label to our dataset, our objective is to find the following answers:\n",
    "\n",
    "    >1. How much Maverick spend do we have?\n",
    "    >2. How much one time purchases do we have?\n",
    "    >3. What is the spend where we have a contract present but do not have a purchase order?\n",
    "    \n",
    "* **Number of Vendors:** measures the count of vendor for every commodity item in the dataset. We need this for further segmentation into the following: High number of vendors, Medium number of vendors, and the low number of vendor classes. This is aid us to form different procurement strategies for commodity items belonging to different classes. As an example:\n",
    "\n",
    "    >1. Items with the high number of vendors: Strategy should be to reduce the number of vendors. Hence, we can focus more on price competition to eliminate excess vendors.\n",
    "    >2. Items with the low number of vendors: Strategy should be to develop new vendors. Hence, we should focus on quality and finding new vendors rather than price competition. The elimination of the vendor is not an option here.\n",
    "    \n",
    "* **Vendor Classification:** is to measure the number of vendor available in a certain type of commodity. By using this, we can get insights on our supplier base. Commodities with a single vendor might be riskier due to supplier dependency, while with multiple vendors provide more flexibility. One benefit example of this is.\n",
    "    >1. Knowing which commodities have multiple suppliers can help in building resilient supply chains by identifying potential alternatives during disruptions.\n",
    "\n",
    "* **PO Classification:** is to measure and analyze the spending patterns. Such as for product or service categories helps in monitoring and controlling expenditues within specific categories, ensuring compliance with budgetary constraints.\n"
   ]
  },
  {
   "cell_type": "code",
   "execution_count": 1,
   "metadata": {},
   "outputs": [],
   "source": [
    "# Import the libraries that would be needed for the data exploration\n",
    "import pandas as pd\n",
    "import matplotlib.pyplot as plt"
   ]
  },
  {
   "cell_type": "code",
   "execution_count": 2,
   "metadata": {},
   "outputs": [],
   "source": [
    "file_dir = r'/home/sedeba19/medium_content/ai_procurement/data/spend_tail_dataset.xlsx'\n",
    "df = pd.read_excel(file_dir)"
   ]
  },
  {
   "cell_type": "code",
   "execution_count": 3,
   "metadata": {},
   "outputs": [
    {
     "data": {
      "text/plain": [
       "(72853, 21)"
      ]
     },
     "execution_count": 3,
     "metadata": {},
     "output_type": "execute_result"
    }
   ],
   "source": [
    "df.shape"
   ]
  },
  {
   "cell_type": "code",
   "execution_count": 4,
   "metadata": {},
   "outputs": [
    {
     "data": {
      "text/plain": [
       "Index(['COMMODITY', 'COMMODITY_DESCRIPTION', 'EXTENDED_DESCRIPTION',\n",
       "       'QUANTITY', 'UNIT_OF_MEASURE', 'UNIT_OF_MEAS_DESC', 'UNIT_PRICE',\n",
       "       'ITM_TOT_AM', 'MASTER_AGREEMENT', 'CONTRACT_NAME', 'PURCHASE_ORDER',\n",
       "       'AWARD_DATE', 'VENDOR_CODE', 'LGL_NM', 'AD_LN_1', 'AD_LN_2', 'CITY',\n",
       "       'ST', 'ZIP', 'CTRY', 'DATA_BUILD_DATE'],\n",
       "      dtype='object')"
      ]
     },
     "execution_count": 4,
     "metadata": {},
     "output_type": "execute_result"
    }
   ],
   "source": [
    "df.columns"
   ]
  },
  {
   "cell_type": "code",
   "execution_count": 5,
   "metadata": {},
   "outputs": [
    {
     "data": {
      "text/html": [
       "<div>\n",
       "<style scoped>\n",
       "    .dataframe tbody tr th:only-of-type {\n",
       "        vertical-align: middle;\n",
       "    }\n",
       "\n",
       "    .dataframe tbody tr th {\n",
       "        vertical-align: top;\n",
       "    }\n",
       "\n",
       "    .dataframe thead th {\n",
       "        text-align: right;\n",
       "    }\n",
       "</style>\n",
       "<table border=\"1\" class=\"dataframe\">\n",
       "  <thead>\n",
       "    <tr style=\"text-align: right;\">\n",
       "      <th></th>\n",
       "      <th>COMMODITY_DESCRIPTION</th>\n",
       "      <th>ITM_TOT_AM</th>\n",
       "    </tr>\n",
       "  </thead>\n",
       "  <tbody>\n",
       "    <tr>\n",
       "      <th>0</th>\n",
       "      <td>0.4% Lidocaine D5W 250ml  Hospira (Abbott Labs...</td>\n",
       "      <td>337.92</td>\n",
       "    </tr>\n",
       "    <tr>\n",
       "      <th>1</th>\n",
       "      <td>0.9% Sodium Chloride 1000ml  Hospira (Abbott L...</td>\n",
       "      <td>38590.36</td>\n",
       "    </tr>\n",
       "    <tr>\n",
       "      <th>2</th>\n",
       "      <td>0.9% Sodium Chloride 250ml  Hospira (Abbott La...</td>\n",
       "      <td>11039.59</td>\n",
       "    </tr>\n",
       "    <tr>\n",
       "      <th>3</th>\n",
       "      <td>0.9% Sodium Chloride 50ml  Hospira (Abbott Lab...</td>\n",
       "      <td>4337.20</td>\n",
       "    </tr>\n",
       "    <tr>\n",
       "      <th>4</th>\n",
       "      <td>102.4 3-SET O2-RESQ SYSTEM INCLUDES ADULT-MED....</td>\n",
       "      <td>46403.40</td>\n",
       "    </tr>\n",
       "  </tbody>\n",
       "</table>\n",
       "</div>"
      ],
      "text/plain": [
       "                               COMMODITY_DESCRIPTION  ITM_TOT_AM\n",
       "0  0.4% Lidocaine D5W 250ml  Hospira (Abbott Labs...      337.92\n",
       "1  0.9% Sodium Chloride 1000ml  Hospira (Abbott L...    38590.36\n",
       "2  0.9% Sodium Chloride 250ml  Hospira (Abbott La...    11039.59\n",
       "3  0.9% Sodium Chloride 50ml  Hospira (Abbott Lab...     4337.20\n",
       "4  102.4 3-SET O2-RESQ SYSTEM INCLUDES ADULT-MED....    46403.40"
      ]
     },
     "execution_count": 5,
     "metadata": {},
     "output_type": "execute_result"
    }
   ],
   "source": [
    "comm_desc_sum = df.groupby('COMMODITY_DESCRIPTION')['ITM_TOT_AM'].sum().reset_index()\n",
    "comm_desc_sum[:5]"
   ]
  },
  {
   "cell_type": "code",
   "execution_count": 6,
   "metadata": {},
   "outputs": [
    {
     "data": {
      "text/html": [
       "<div>\n",
       "<style scoped>\n",
       "    .dataframe tbody tr th:only-of-type {\n",
       "        vertical-align: middle;\n",
       "    }\n",
       "\n",
       "    .dataframe tbody tr th {\n",
       "        vertical-align: top;\n",
       "    }\n",
       "\n",
       "    .dataframe thead th {\n",
       "        text-align: right;\n",
       "    }\n",
       "</style>\n",
       "<table border=\"1\" class=\"dataframe\">\n",
       "  <thead>\n",
       "    <tr style=\"text-align: right;\">\n",
       "      <th></th>\n",
       "      <th>COMMODITY_DESCRIPTION</th>\n",
       "      <th>ITM_TOT_AM</th>\n",
       "      <th>% Total Running In</th>\n",
       "    </tr>\n",
       "  </thead>\n",
       "  <tbody>\n",
       "    <tr>\n",
       "      <th>0</th>\n",
       "      <td>0.4% Lidocaine D5W 250ml  Hospira (Abbott Labs...</td>\n",
       "      <td>337.92</td>\n",
       "      <td>0</td>\n",
       "    </tr>\n",
       "    <tr>\n",
       "      <th>1</th>\n",
       "      <td>0.9% Sodium Chloride 1000ml  Hospira (Abbott L...</td>\n",
       "      <td>38590.36</td>\n",
       "      <td>0</td>\n",
       "    </tr>\n",
       "    <tr>\n",
       "      <th>2</th>\n",
       "      <td>0.9% Sodium Chloride 250ml  Hospira (Abbott La...</td>\n",
       "      <td>11039.59</td>\n",
       "      <td>0</td>\n",
       "    </tr>\n",
       "    <tr>\n",
       "      <th>3</th>\n",
       "      <td>0.9% Sodium Chloride 50ml  Hospira (Abbott Lab...</td>\n",
       "      <td>4337.20</td>\n",
       "      <td>0</td>\n",
       "    </tr>\n",
       "    <tr>\n",
       "      <th>4</th>\n",
       "      <td>102.4 3-SET O2-RESQ SYSTEM INCLUDES ADULT-MED....</td>\n",
       "      <td>46403.40</td>\n",
       "      <td>0</td>\n",
       "    </tr>\n",
       "  </tbody>\n",
       "</table>\n",
       "</div>"
      ],
      "text/plain": [
       "                               COMMODITY_DESCRIPTION  ITM_TOT_AM  \\\n",
       "0  0.4% Lidocaine D5W 250ml  Hospira (Abbott Labs...      337.92   \n",
       "1  0.9% Sodium Chloride 1000ml  Hospira (Abbott L...    38590.36   \n",
       "2  0.9% Sodium Chloride 250ml  Hospira (Abbott La...    11039.59   \n",
       "3  0.9% Sodium Chloride 50ml  Hospira (Abbott Lab...     4337.20   \n",
       "4  102.4 3-SET O2-RESQ SYSTEM INCLUDES ADULT-MED....    46403.40   \n",
       "\n",
       "   % Total Running In  \n",
       "0                   0  \n",
       "1                   0  \n",
       "2                   0  \n",
       "3                   0  \n",
       "4                   0  "
      ]
     },
     "execution_count": 6,
     "metadata": {},
     "output_type": "execute_result"
    }
   ],
   "source": [
    "total_sum = comm_desc_sum['ITM_TOT_AM'].sum()\n",
    "comm_desc_sum['% Total Running In'] = 0\n",
    "comm_desc_sum.head()"
   ]
  },
  {
   "cell_type": "code",
   "execution_count": 7,
   "metadata": {},
   "outputs": [
    {
     "name": "stderr",
     "output_type": "stream",
     "text": [
      "/tmp/ipykernel_58262/392091930.py:4: FutureWarning: Setting an item of incompatible dtype is deprecated and will raise in a future error of pandas. Value '337.92' has dtype incompatible with int64, please explicitly cast to a compatible dtype first.\n",
      "  comm_desc_sum.loc[0, 'temp'] = comm_desc_sum.loc[0, 'ITM_TOT_AM']\n"
     ]
    }
   ],
   "source": [
    "comm_desc_sum['temp'] = 0\n",
    "\n",
    "length = len(comm_desc_sum)\n",
    "comm_desc_sum.loc[0, 'temp'] = comm_desc_sum.loc[0, 'ITM_TOT_AM']\n",
    "\n",
    "for i in range(1, length):\n",
    "    comm_desc_sum.loc[i, 'temp'] = comm_desc_sum.loc[i - 1, 'temp'] + comm_desc_sum.loc[i, 'ITM_TOT_AM']"
   ]
  },
  {
   "cell_type": "code",
   "execution_count": 8,
   "metadata": {},
   "outputs": [
    {
     "name": "stderr",
     "output_type": "stream",
     "text": [
      "/tmp/ipykernel_58262/863514314.py:3: SettingWithCopyWarning: \n",
      "A value is trying to be set on a copy of a slice from a DataFrame\n",
      "\n",
      "See the caveats in the documentation: https://pandas.pydata.org/pandas-docs/stable/user_guide/indexing.html#returning-a-view-versus-a-copy\n",
      "  comm_desc_sum['% Total Running In'][i] = (comm_desc_sum['temp'][i] / comm_desc_sum['ITM_TOT_AM'].sum()) * 100\n",
      "/tmp/ipykernel_58262/863514314.py:3: FutureWarning: Setting an item of incompatible dtype is deprecated and will raise in a future error of pandas. Value '6.550441559317351e-05' has dtype incompatible with int64, please explicitly cast to a compatible dtype first.\n",
      "  comm_desc_sum['% Total Running In'][i] = (comm_desc_sum['temp'][i] / comm_desc_sum['ITM_TOT_AM'].sum()) * 100\n"
     ]
    }
   ],
   "source": [
    "comm_desc_sum['ITM_TOT_AM'].sum()\n",
    "for i in range(length):\n",
    "    comm_desc_sum['% Total Running In'][i] = (comm_desc_sum['temp'][i] / comm_desc_sum['ITM_TOT_AM'].sum()) * 100"
   ]
  },
  {
   "cell_type": "code",
   "execution_count": 9,
   "metadata": {},
   "outputs": [
    {
     "data": {
      "text/plain": [
       "100.00000000000009"
      ]
     },
     "execution_count": 9,
     "metadata": {},
     "output_type": "execute_result"
    }
   ],
   "source": [
    "comm_desc_sum['% Total Running In'].max()"
   ]
  },
  {
   "cell_type": "code",
   "execution_count": 11,
   "metadata": {},
   "outputs": [
    {
     "data": {
      "text/plain": [
       "0    0.000066\n",
       "1    0.007546\n",
       "2    0.009686\n",
       "3    0.010527\n",
       "4    0.019522\n",
       "Name: % Total Running In, dtype: float64"
      ]
     },
     "execution_count": 11,
     "metadata": {},
     "output_type": "execute_result"
    }
   ],
   "source": [
    "comm_desc_sum['% Total Running In'][:5]"
   ]
  },
  {
   "cell_type": "markdown",
   "metadata": {},
   "source": [
    "**Spend Class:** \n",
    "\n",
    "We are about to add a new column (spend_class) in the dataset that will serve as an identifier for the distribution of spending across the dataset. Specifically, we will be introducing the '% Total Running' column. Items falling within the range of 0% to 80% (the top 80% of spending) will be designated as 'Major Spend' items, while those falling within the range of 80% to 100% (the bottom 20% of spending) will be categorized as 'Tail Spend.'"
   ]
  },
  {
   "cell_type": "code",
   "execution_count": 12,
   "metadata": {},
   "outputs": [
    {
     "name": "stderr",
     "output_type": "stream",
     "text": [
      "/tmp/ipykernel_58262/1542164856.py:4: FutureWarning: Setting an item of incompatible dtype is deprecated and will raise in a future error of pandas. Value 'major_spend' has dtype incompatible with int64, please explicitly cast to a compatible dtype first.\n",
      "  comm_desc_sum.at[i, 'spend_class'] = 'major_spend'\n"
     ]
    }
   ],
   "source": [
    "comm_desc_sum['spend_class'] = 0\n",
    "for i in range(0, length):\n",
    "    if comm_desc_sum['% Total Running In'][i] <= 80:\n",
    "       comm_desc_sum.at[i, 'spend_class'] = 'major_spend'\n",
    "    else:\n",
    "       comm_desc_sum.at[i, 'spend_class'] = 'tail_spend'"
   ]
  },
  {
   "cell_type": "code",
   "execution_count": 13,
   "metadata": {},
   "outputs": [
    {
     "data": {
      "text/html": [
       "<div>\n",
       "<style scoped>\n",
       "    .dataframe tbody tr th:only-of-type {\n",
       "        vertical-align: middle;\n",
       "    }\n",
       "\n",
       "    .dataframe tbody tr th {\n",
       "        vertical-align: top;\n",
       "    }\n",
       "\n",
       "    .dataframe thead th {\n",
       "        text-align: right;\n",
       "    }\n",
       "</style>\n",
       "<table border=\"1\" class=\"dataframe\">\n",
       "  <thead>\n",
       "    <tr style=\"text-align: right;\">\n",
       "      <th></th>\n",
       "      <th>COMMODITY_DESCRIPTION</th>\n",
       "      <th>ITM_TOT_AM</th>\n",
       "      <th>% Total Running In</th>\n",
       "      <th>temp</th>\n",
       "      <th>spend_class</th>\n",
       "    </tr>\n",
       "  </thead>\n",
       "  <tbody>\n",
       "    <tr>\n",
       "      <th>6691</th>\n",
       "      <td>bag bolus blue</td>\n",
       "      <td>4376.90</td>\n",
       "      <td>99.997854</td>\n",
       "      <td>5.158625e+08</td>\n",
       "      <td>tail_spend</td>\n",
       "    </tr>\n",
       "    <tr>\n",
       "      <th>6692</th>\n",
       "      <td>embroidered cloth name tag for tactical shirts</td>\n",
       "      <td>871.50</td>\n",
       "      <td>99.998022</td>\n",
       "      <td>5.158634e+08</td>\n",
       "      <td>tail_spend</td>\n",
       "    </tr>\n",
       "    <tr>\n",
       "      <th>6693</th>\n",
       "      <td>ems equipment and supplies including kits</td>\n",
       "      <td>1450.00</td>\n",
       "      <td>99.998304</td>\n",
       "      <td>5.158649e+08</td>\n",
       "      <td>tail_spend</td>\n",
       "    </tr>\n",
       "    <tr>\n",
       "      <th>6694</th>\n",
       "      <td>pH Buffer Solutions, Indicators, and Papers</td>\n",
       "      <td>1427.68</td>\n",
       "      <td>99.998580</td>\n",
       "      <td>5.158663e+08</td>\n",
       "      <td>tail_spend</td>\n",
       "    </tr>\n",
       "    <tr>\n",
       "      <th>6695</th>\n",
       "      <td>pillows disposable</td>\n",
       "      <td>7323.74</td>\n",
       "      <td>100.000000</td>\n",
       "      <td>5.158736e+08</td>\n",
       "      <td>tail_spend</td>\n",
       "    </tr>\n",
       "  </tbody>\n",
       "</table>\n",
       "</div>"
      ],
      "text/plain": [
       "                               COMMODITY_DESCRIPTION  ITM_TOT_AM  \\\n",
       "6691                                  bag bolus blue     4376.90   \n",
       "6692  embroidered cloth name tag for tactical shirts      871.50   \n",
       "6693       ems equipment and supplies including kits     1450.00   \n",
       "6694     pH Buffer Solutions, Indicators, and Papers     1427.68   \n",
       "6695                              pillows disposable     7323.74   \n",
       "\n",
       "      % Total Running In          temp spend_class  \n",
       "6691           99.997854  5.158625e+08  tail_spend  \n",
       "6692           99.998022  5.158634e+08  tail_spend  \n",
       "6693           99.998304  5.158649e+08  tail_spend  \n",
       "6694           99.998580  5.158663e+08  tail_spend  \n",
       "6695          100.000000  5.158736e+08  tail_spend  "
      ]
     },
     "execution_count": 13,
     "metadata": {},
     "output_type": "execute_result"
    }
   ],
   "source": [
    "comm_desc_sum.tail()"
   ]
  },
  {
   "cell_type": "code",
   "execution_count": 14,
   "metadata": {},
   "outputs": [
    {
     "data": {
      "text/html": [
       "<div>\n",
       "<style scoped>\n",
       "    .dataframe tbody tr th:only-of-type {\n",
       "        vertical-align: middle;\n",
       "    }\n",
       "\n",
       "    .dataframe tbody tr th {\n",
       "        vertical-align: top;\n",
       "    }\n",
       "\n",
       "    .dataframe thead th {\n",
       "        text-align: right;\n",
       "    }\n",
       "</style>\n",
       "<table border=\"1\" class=\"dataframe\">\n",
       "  <thead>\n",
       "    <tr style=\"text-align: right;\">\n",
       "      <th></th>\n",
       "      <th>COMMODITY_DESCRIPTION</th>\n",
       "      <th>ITM_TOT_AM</th>\n",
       "      <th>% Total Running In</th>\n",
       "      <th>temp</th>\n",
       "      <th>spend_class</th>\n",
       "    </tr>\n",
       "  </thead>\n",
       "  <tbody>\n",
       "    <tr>\n",
       "      <th>0</th>\n",
       "      <td>0.4% Lidocaine D5W 250ml  Hospira (Abbott Labs...</td>\n",
       "      <td>337.92</td>\n",
       "      <td>0.000066</td>\n",
       "      <td>337.92</td>\n",
       "      <td>major_spend</td>\n",
       "    </tr>\n",
       "    <tr>\n",
       "      <th>1</th>\n",
       "      <td>0.9% Sodium Chloride 1000ml  Hospira (Abbott L...</td>\n",
       "      <td>38590.36</td>\n",
       "      <td>0.007546</td>\n",
       "      <td>38928.28</td>\n",
       "      <td>major_spend</td>\n",
       "    </tr>\n",
       "    <tr>\n",
       "      <th>2</th>\n",
       "      <td>0.9% Sodium Chloride 250ml  Hospira (Abbott La...</td>\n",
       "      <td>11039.59</td>\n",
       "      <td>0.009686</td>\n",
       "      <td>49967.87</td>\n",
       "      <td>major_spend</td>\n",
       "    </tr>\n",
       "    <tr>\n",
       "      <th>3</th>\n",
       "      <td>0.9% Sodium Chloride 50ml  Hospira (Abbott Lab...</td>\n",
       "      <td>4337.20</td>\n",
       "      <td>0.010527</td>\n",
       "      <td>54305.07</td>\n",
       "      <td>major_spend</td>\n",
       "    </tr>\n",
       "    <tr>\n",
       "      <th>4</th>\n",
       "      <td>102.4 3-SET O2-RESQ SYSTEM INCLUDES ADULT-MED....</td>\n",
       "      <td>46403.40</td>\n",
       "      <td>0.019522</td>\n",
       "      <td>100708.47</td>\n",
       "      <td>major_spend</td>\n",
       "    </tr>\n",
       "  </tbody>\n",
       "</table>\n",
       "</div>"
      ],
      "text/plain": [
       "                               COMMODITY_DESCRIPTION  ITM_TOT_AM  \\\n",
       "0  0.4% Lidocaine D5W 250ml  Hospira (Abbott Labs...      337.92   \n",
       "1  0.9% Sodium Chloride 1000ml  Hospira (Abbott L...    38590.36   \n",
       "2  0.9% Sodium Chloride 250ml  Hospira (Abbott La...    11039.59   \n",
       "3  0.9% Sodium Chloride 50ml  Hospira (Abbott Lab...     4337.20   \n",
       "4  102.4 3-SET O2-RESQ SYSTEM INCLUDES ADULT-MED....    46403.40   \n",
       "\n",
       "   % Total Running In       temp  spend_class  \n",
       "0            0.000066     337.92  major_spend  \n",
       "1            0.007546   38928.28  major_spend  \n",
       "2            0.009686   49967.87  major_spend  \n",
       "3            0.010527   54305.07  major_spend  \n",
       "4            0.019522  100708.47  major_spend  "
      ]
     },
     "execution_count": 14,
     "metadata": {},
     "output_type": "execute_result"
    }
   ],
   "source": [
    "comm_desc_sum.head()"
   ]
  },
  {
   "cell_type": "code",
   "execution_count": 16,
   "metadata": {},
   "outputs": [],
   "source": [
    "comm_desc_sum.drop('temp', axis = 1, inplace = True)\n",
    "# Assign 'spend_class' in df based on 'COMMODITY_DESCRIPTION' in comm_desc_sum\n",
    "df['spend_class'] = df['COMMODITY_DESCRIPTION'].map(comm_desc_sum.set_index('COMMODITY_DESCRIPTION')['spend_class'])"
   ]
  },
  {
   "cell_type": "code",
   "execution_count": 18,
   "metadata": {},
   "outputs": [
    {
     "data": {
      "text/plain": [
       "(72853, 22)"
      ]
     },
     "execution_count": 18,
     "metadata": {},
     "output_type": "execute_result"
    }
   ],
   "source": [
    "df.shape"
   ]
  },
  {
   "cell_type": "code",
   "execution_count": 19,
   "metadata": {},
   "outputs": [
    {
     "data": {
      "text/plain": [
       "72853"
      ]
     },
     "execution_count": 19,
     "metadata": {},
     "output_type": "execute_result"
    }
   ],
   "source": [
    "len(df)"
   ]
  },
  {
   "cell_type": "code",
   "execution_count": 23,
   "metadata": {},
   "outputs": [
    {
     "data": {
      "text/plain": [
       "spend_class\n",
       "major_spend    61861\n",
       "tail_spend     10992\n",
       "Name: count, dtype: int64"
      ]
     },
     "execution_count": 23,
     "metadata": {},
     "output_type": "execute_result"
    }
   ],
   "source": [
    "df['spend_class'].value_counts()"
   ]
  },
  {
   "cell_type": "markdown",
   "metadata": {},
   "source": [
    "We can observe the aggregate values (count) of major spend and tail spend. \n",
    "* Major spend (84.912%) typically encompasses substantial and strategically managed procurement activities, often entailing larger contracts or purchases. \n",
    "* In contrast, tail spend (15.088%) comprises numerous smaller, often impromptu purchases that may not receive as close scrutiny but, when combined, exert a notable impact on the organization's financial performance.\n",
    "\n",
    "Despite the individual modest values of these purchases, their cumulative effect can be substantial.\n",
    "\n",
    "\n",
    "\n",
    "\n",
    "\n"
   ]
  },
  {
   "cell_type": "code",
   "execution_count": 24,
   "metadata": {},
   "outputs": [
    {
     "data": {
      "text/plain": [
       "True"
      ]
     },
     "execution_count": 24,
     "metadata": {},
     "output_type": "execute_result"
    }
   ],
   "source": [
    "len(df['spend_class']) == df['spend_class'].value_counts().sum()"
   ]
  },
  {
   "cell_type": "markdown",
   "metadata": {},
   "source": [
    "**Contract:** \n",
    "\n",
    "Now, we're going to add our second column, 'Contract.' It's a straightforward task. Just look at the 'Master_Agreement' column in the dataset. If it's empty, we'll put 'Contract Not Available,' and if it has any content, we'll write 'Contract Available.' We'll apply this rule to all the cells in the column."
   ]
  },
  {
   "cell_type": "code",
   "execution_count": 25,
   "metadata": {},
   "outputs": [
    {
     "data": {
      "text/plain": [
       "Index(['COMMODITY', 'COMMODITY_DESCRIPTION', 'EXTENDED_DESCRIPTION',\n",
       "       'QUANTITY', 'UNIT_OF_MEASURE', 'UNIT_OF_MEAS_DESC', 'UNIT_PRICE',\n",
       "       'ITM_TOT_AM', 'MASTER_AGREEMENT', 'CONTRACT_NAME', 'PURCHASE_ORDER',\n",
       "       'AWARD_DATE', 'VENDOR_CODE', 'LGL_NM', 'AD_LN_1', 'AD_LN_2', 'CITY',\n",
       "       'ST', 'ZIP', 'CTRY', 'DATA_BUILD_DATE', 'spend_class'],\n",
       "      dtype='object')"
      ]
     },
     "execution_count": 25,
     "metadata": {},
     "output_type": "execute_result"
    }
   ],
   "source": [
    "df.columns"
   ]
  },
  {
   "cell_type": "code",
   "execution_count": 26,
   "metadata": {},
   "outputs": [
    {
     "data": {
      "text/plain": [
       "0        MA2200GA140000076\n",
       "1        MA1100GA130000040\n",
       "2        MA8600GA090000006\n",
       "3        MA7400GC100000003\n",
       "4                      NaN\n",
       "               ...        \n",
       "72848    MA2200GA120000017\n",
       "72849    MA2200GA110000059\n",
       "72850                  NaN\n",
       "72851    MA1100GA080000084\n",
       "72852    MA6400GA110000076\n",
       "Name: MASTER_AGREEMENT, Length: 72853, dtype: object"
      ]
     },
     "execution_count": 26,
     "metadata": {},
     "output_type": "execute_result"
    }
   ],
   "source": [
    "df['MASTER_AGREEMENT']"
   ]
  },
  {
   "cell_type": "code",
   "execution_count": 27,
   "metadata": {},
   "outputs": [
    {
     "data": {
      "text/plain": [
       "72853"
      ]
     },
     "execution_count": 27,
     "metadata": {},
     "output_type": "execute_result"
    }
   ],
   "source": [
    "len(df['MASTER_AGREEMENT'])"
   ]
  },
  {
   "cell_type": "code",
   "execution_count": 28,
   "metadata": {},
   "outputs": [
    {
     "data": {
      "text/plain": [
       "17642"
      ]
     },
     "execution_count": 28,
     "metadata": {},
     "output_type": "execute_result"
    }
   ],
   "source": [
    "df['MASTER_AGREEMENT'].isna().sum()"
   ]
  },
  {
   "cell_type": "code",
   "execution_count": 29,
   "metadata": {},
   "outputs": [
    {
     "data": {
      "text/plain": [
       "24.21588678571919"
      ]
     },
     "execution_count": 29,
     "metadata": {},
     "output_type": "execute_result"
    }
   ],
   "source": [
    "(df['MASTER_AGREEMENT'].isna().sum()/len(df['MASTER_AGREEMENT']))*100"
   ]
  },
  {
   "cell_type": "markdown",
   "metadata": {},
   "source": [
    "We have 24.21% of missing values in Master_Agreement column (no contract)."
   ]
  },
  {
   "cell_type": "code",
   "execution_count": 30,
   "metadata": {},
   "outputs": [],
   "source": [
    "df['contract'] = 'Contract NOT Available'\n",
    "\n",
    "for i in range(len(df)):\n",
    "    if pd.notna(df['MASTER_AGREEMENT'][i]):\n",
    "        df.at[i, 'contract'] = 'Contract Available'"
   ]
  },
  {
   "cell_type": "code",
   "execution_count": 31,
   "metadata": {},
   "outputs": [
    {
     "data": {
      "text/plain": [
       "contract\n",
       "Contract Available        55211\n",
       "Contract NOT Available    17642\n",
       "Name: count, dtype: int64"
      ]
     },
     "execution_count": 31,
     "metadata": {},
     "output_type": "execute_result"
    }
   ],
   "source": [
    "df['contract'].value_counts()"
   ]
  },
  {
   "cell_type": "code",
   "execution_count": 32,
   "metadata": {},
   "outputs": [
    {
     "data": {
      "text/plain": [
       "True"
      ]
     },
     "execution_count": 32,
     "metadata": {},
     "output_type": "execute_result"
    }
   ],
   "source": [
    "df['contract'].value_counts().sum() == len(df['MASTER_AGREEMENT'])"
   ]
  },
  {
   "cell_type": "markdown",
   "metadata": {},
   "source": [
    "We have added the contract column with reference to Master_Agreement's column."
   ]
  },
  {
   "cell_type": "markdown",
   "metadata": {},
   "source": [
    "**Purchase Order (PO):** \n",
    "\n",
    "We will repeat the same steps as we did while adding our Contract Column. If \"Purchase_Order\" column is blank, we will write \"PO Not Available\" and if the \"Purchase_Order\" column is not blank, we will write \"PO Available\". "
   ]
  },
  {
   "cell_type": "code",
   "execution_count": 33,
   "metadata": {},
   "outputs": [
    {
     "data": {
      "text/plain": [
       "921"
      ]
     },
     "execution_count": 33,
     "metadata": {},
     "output_type": "execute_result"
    }
   ],
   "source": [
    "df['PURCHASE_ORDER'].isna().sum()"
   ]
  },
  {
   "cell_type": "code",
   "execution_count": 34,
   "metadata": {},
   "outputs": [
    {
     "data": {
      "text/plain": [
       "1.264189532345957"
      ]
     },
     "execution_count": 34,
     "metadata": {},
     "output_type": "execute_result"
    }
   ],
   "source": [
    "(df['PURCHASE_ORDER'].isna().sum() / len(df['PURCHASE_ORDER']))*100"
   ]
  },
  {
   "cell_type": "markdown",
   "metadata": {},
   "source": [
    "We have a 1.26% missing value on Purchase Order record."
   ]
  },
  {
   "cell_type": "code",
   "execution_count": 35,
   "metadata": {},
   "outputs": [],
   "source": [
    "df['PO_availability'] = 'PO NOT Available'\n",
    "\n",
    "for i in range(len(df)):\n",
    "    if pd.notna(df['PURCHASE_ORDER'][i]):\n",
    "        df.at[i, 'PO_availability'] = 'PO Available'"
   ]
  },
  {
   "cell_type": "code",
   "execution_count": 36,
   "metadata": {},
   "outputs": [
    {
     "data": {
      "text/plain": [
       "PO_availability\n",
       "PO Available        71932\n",
       "PO NOT Available      921\n",
       "Name: count, dtype: int64"
      ]
     },
     "execution_count": 36,
     "metadata": {},
     "output_type": "execute_result"
    }
   ],
   "source": [
    "df['PO_availability'].value_counts()"
   ]
  },
  {
   "cell_type": "code",
   "execution_count": 37,
   "metadata": {},
   "outputs": [
    {
     "data": {
      "text/plain": [
       "True"
      ]
     },
     "execution_count": 37,
     "metadata": {},
     "output_type": "execute_result"
    }
   ],
   "source": [
    "df['PO_availability'].value_counts().sum() == len(df['PO_availability'])"
   ]
  },
  {
   "cell_type": "markdown",
   "metadata": {},
   "source": [
    "We have added the PO availability column with reference to Purchase Order's column."
   ]
  },
  {
   "cell_type": "markdown",
   "metadata": {},
   "source": [
    "**Number of Vendors:** \n",
    "\n",
    "A pivotal moment has arrived as we embark on the process of calculating the number of vendors for each commodity description. Our objective is to determine how many vendors are associated with each item, and subsequently, categorize them into High, Medium, and Low groups.\n",
    "\n",
    "While the underlying logic is straightforward, it entails several steps. To begin, we will compile a list of unique vendor names for each commodity description. In simpler terms, this means establishing one-to-many relationships, where one commodity description may be associated with multiple vendor names."
   ]
  },
  {
   "cell_type": "code",
   "execution_count": 38,
   "metadata": {},
   "outputs": [
    {
     "data": {
      "text/html": [
       "<div>\n",
       "<style scoped>\n",
       "    .dataframe tbody tr th:only-of-type {\n",
       "        vertical-align: middle;\n",
       "    }\n",
       "\n",
       "    .dataframe tbody tr th {\n",
       "        vertical-align: top;\n",
       "    }\n",
       "\n",
       "    .dataframe thead th {\n",
       "        text-align: right;\n",
       "    }\n",
       "</style>\n",
       "<table border=\"1\" class=\"dataframe\">\n",
       "  <thead>\n",
       "    <tr style=\"text-align: right;\">\n",
       "      <th></th>\n",
       "      <th>COMMODITY_DESCRIPTION</th>\n",
       "      <th>LGL_NM</th>\n",
       "    </tr>\n",
       "  </thead>\n",
       "  <tbody>\n",
       "    <tr>\n",
       "      <th>0</th>\n",
       "      <td>0.4% Lidocaine D5W 250ml  Hospira (Abbott Labs...</td>\n",
       "      <td>1</td>\n",
       "    </tr>\n",
       "    <tr>\n",
       "      <th>1</th>\n",
       "      <td>0.9% Sodium Chloride 1000ml  Hospira (Abbott L...</td>\n",
       "      <td>3</td>\n",
       "    </tr>\n",
       "    <tr>\n",
       "      <th>2</th>\n",
       "      <td>0.9% Sodium Chloride 250ml  Hospira (Abbott La...</td>\n",
       "      <td>4</td>\n",
       "    </tr>\n",
       "    <tr>\n",
       "      <th>3</th>\n",
       "      <td>0.9% Sodium Chloride 50ml  Hospira (Abbott Lab...</td>\n",
       "      <td>2</td>\n",
       "    </tr>\n",
       "    <tr>\n",
       "      <th>4</th>\n",
       "      <td>102.4 3-SET O2-RESQ SYSTEM INCLUDES ADULT-MED....</td>\n",
       "      <td>1</td>\n",
       "    </tr>\n",
       "  </tbody>\n",
       "</table>\n",
       "</div>"
      ],
      "text/plain": [
       "                               COMMODITY_DESCRIPTION  LGL_NM\n",
       "0  0.4% Lidocaine D5W 250ml  Hospira (Abbott Labs...       1\n",
       "1  0.9% Sodium Chloride 1000ml  Hospira (Abbott L...       3\n",
       "2  0.9% Sodium Chloride 250ml  Hospira (Abbott La...       4\n",
       "3  0.9% Sodium Chloride 50ml  Hospira (Abbott Lab...       2\n",
       "4  102.4 3-SET O2-RESQ SYSTEM INCLUDES ADULT-MED....       1"
      ]
     },
     "execution_count": 38,
     "metadata": {},
     "output_type": "execute_result"
    }
   ],
   "source": [
    "vendor_counts = df.groupby('COMMODITY_DESCRIPTION')['LGL_NM'].nunique().reset_index()\n",
    "vendor_counts.head()"
   ]
  },
  {
   "cell_type": "code",
   "execution_count": 39,
   "metadata": {},
   "outputs": [
    {
     "name": "stdout",
     "output_type": "stream",
     "text": [
      "Vendor names for '0.9% Sodium Chloride 1000ml': HENRY SCHEIN INC, MIDWEST MEDICAL SUPPLY COMPANY, LLC, SOUTHEASTERN EMERGENCY EQUIPMENT\n",
      "Number of unique vendors: 3\n"
     ]
    }
   ],
   "source": [
    "# Let's find and check row 1 from the vendor_counts df if LGL_NM is totally true\n",
    "desired_commodity_description = '0.9% Sodium Chloride 1000ml'\n",
    "filtered_data = df[df['COMMODITY_DESCRIPTION'].str.startswith(desired_commodity_description)]\n",
    "\n",
    "if not filtered_data.empty:\n",
    "    vendor_names = filtered_data['LGL_NM'].unique()\n",
    "    unique_vendor_count = len(vendor_names)\n",
    "\n",
    "    print(f\"Vendor names for '{desired_commodity_description}': {', '.join(vendor_names)}\")\n",
    "    print(f\"Number of unique vendors: {unique_vendor_count}\")\n",
    "else:\n",
    "    print(f\"No matching rows found for '{desired_commodity_description}'.\")"
   ]
  },
  {
   "cell_type": "markdown",
   "metadata": {},
   "source": [
    "As we can see, row 2 (index 1) on vendor_counts dataframe has the same output."
   ]
  },
  {
   "cell_type": "code",
   "execution_count": 40,
   "metadata": {},
   "outputs": [
    {
     "data": {
      "text/html": [
       "<div>\n",
       "<style scoped>\n",
       "    .dataframe tbody tr th:only-of-type {\n",
       "        vertical-align: middle;\n",
       "    }\n",
       "\n",
       "    .dataframe tbody tr th {\n",
       "        vertical-align: top;\n",
       "    }\n",
       "\n",
       "    .dataframe thead th {\n",
       "        text-align: right;\n",
       "    }\n",
       "</style>\n",
       "<table border=\"1\" class=\"dataframe\">\n",
       "  <thead>\n",
       "    <tr style=\"text-align: right;\">\n",
       "      <th></th>\n",
       "      <th>LGL_NM</th>\n",
       "    </tr>\n",
       "  </thead>\n",
       "  <tbody>\n",
       "    <tr>\n",
       "      <th>138</th>\n",
       "      <td>MIDWEST MEDICAL SUPPLY COMPANY, LLC</td>\n",
       "    </tr>\n",
       "    <tr>\n",
       "      <th>187</th>\n",
       "      <td>MIDWEST MEDICAL SUPPLY COMPANY, LLC</td>\n",
       "    </tr>\n",
       "  </tbody>\n",
       "</table>\n",
       "</div>"
      ],
      "text/plain": [
       "                                  LGL_NM\n",
       "138  MIDWEST MEDICAL SUPPLY COMPANY, LLC\n",
       "187  MIDWEST MEDICAL SUPPLY COMPANY, LLC"
      ]
     },
     "execution_count": 40,
     "metadata": {},
     "output_type": "execute_result"
    }
   ],
   "source": [
    "# Check if MIDWEST MEDICAL SUPPLY COMPANY, LLC, is a totally 1 count vendor (get only the first 2)\n",
    "df_subset = df[['LGL_NM']]\n",
    "df_subset[df_subset['LGL_NM'].str.startswith('MIDWEST MEDICAL SUPPLY')][:2]"
   ]
  },
  {
   "cell_type": "markdown",
   "metadata": {},
   "source": [
    "Yes, confirmed. It is one entity."
   ]
  },
  {
   "cell_type": "code",
   "execution_count": 44,
   "metadata": {},
   "outputs": [
    {
     "data": {
      "text/html": [
       "<div>\n",
       "<style scoped>\n",
       "    .dataframe tbody tr th:only-of-type {\n",
       "        vertical-align: middle;\n",
       "    }\n",
       "\n",
       "    .dataframe tbody tr th {\n",
       "        vertical-align: top;\n",
       "    }\n",
       "\n",
       "    .dataframe thead th {\n",
       "        text-align: right;\n",
       "    }\n",
       "</style>\n",
       "<table border=\"1\" class=\"dataframe\">\n",
       "  <thead>\n",
       "    <tr style=\"text-align: right;\">\n",
       "      <th></th>\n",
       "      <th>COMMODITY_DESCRIPTION</th>\n",
       "      <th>LGL_NM</th>\n",
       "      <th>Total_Vendors</th>\n",
       "    </tr>\n",
       "  </thead>\n",
       "  <tbody>\n",
       "    <tr>\n",
       "      <th>0</th>\n",
       "      <td>0.4% Lidocaine D5W 250ml  Hospira (Abbott Labs...</td>\n",
       "      <td>1</td>\n",
       "      <td>1</td>\n",
       "    </tr>\n",
       "    <tr>\n",
       "      <th>1</th>\n",
       "      <td>0.9% Sodium Chloride 1000ml  Hospira (Abbott L...</td>\n",
       "      <td>3</td>\n",
       "      <td>3</td>\n",
       "    </tr>\n",
       "    <tr>\n",
       "      <th>2</th>\n",
       "      <td>0.9% Sodium Chloride 250ml  Hospira (Abbott La...</td>\n",
       "      <td>4</td>\n",
       "      <td>4</td>\n",
       "    </tr>\n",
       "    <tr>\n",
       "      <th>3</th>\n",
       "      <td>0.9% Sodium Chloride 50ml  Hospira (Abbott Lab...</td>\n",
       "      <td>2</td>\n",
       "      <td>2</td>\n",
       "    </tr>\n",
       "    <tr>\n",
       "      <th>4</th>\n",
       "      <td>102.4 3-SET O2-RESQ SYSTEM INCLUDES ADULT-MED....</td>\n",
       "      <td>1</td>\n",
       "      <td>1</td>\n",
       "    </tr>\n",
       "    <tr>\n",
       "      <th>...</th>\n",
       "      <td>...</td>\n",
       "      <td>...</td>\n",
       "      <td>...</td>\n",
       "    </tr>\n",
       "    <tr>\n",
       "      <th>6691</th>\n",
       "      <td>bag bolus blue</td>\n",
       "      <td>1</td>\n",
       "      <td>1</td>\n",
       "    </tr>\n",
       "    <tr>\n",
       "      <th>6692</th>\n",
       "      <td>embroidered cloth name tag for tactical shirts</td>\n",
       "      <td>1</td>\n",
       "      <td>1</td>\n",
       "    </tr>\n",
       "    <tr>\n",
       "      <th>6693</th>\n",
       "      <td>ems equipment and supplies including kits</td>\n",
       "      <td>1</td>\n",
       "      <td>1</td>\n",
       "    </tr>\n",
       "    <tr>\n",
       "      <th>6694</th>\n",
       "      <td>pH Buffer Solutions, Indicators, and Papers</td>\n",
       "      <td>1</td>\n",
       "      <td>1</td>\n",
       "    </tr>\n",
       "    <tr>\n",
       "      <th>6695</th>\n",
       "      <td>pillows disposable</td>\n",
       "      <td>2</td>\n",
       "      <td>2</td>\n",
       "    </tr>\n",
       "  </tbody>\n",
       "</table>\n",
       "<p>6696 rows × 3 columns</p>\n",
       "</div>"
      ],
      "text/plain": [
       "                                  COMMODITY_DESCRIPTION  LGL_NM  Total_Vendors\n",
       "0     0.4% Lidocaine D5W 250ml  Hospira (Abbott Labs...       1              1\n",
       "1     0.9% Sodium Chloride 1000ml  Hospira (Abbott L...       3              3\n",
       "2     0.9% Sodium Chloride 250ml  Hospira (Abbott La...       4              4\n",
       "3     0.9% Sodium Chloride 50ml  Hospira (Abbott Lab...       2              2\n",
       "4     102.4 3-SET O2-RESQ SYSTEM INCLUDES ADULT-MED....       1              1\n",
       "...                                                 ...     ...            ...\n",
       "6691                                     bag bolus blue       1              1\n",
       "6692     embroidered cloth name tag for tactical shirts       1              1\n",
       "6693          ems equipment and supplies including kits       1              1\n",
       "6694        pH Buffer Solutions, Indicators, and Papers       1              1\n",
       "6695                                 pillows disposable       2              2\n",
       "\n",
       "[6696 rows x 3 columns]"
      ]
     },
     "execution_count": 44,
     "metadata": {},
     "output_type": "execute_result"
    }
   ],
   "source": [
    "vendor_counts['Total_Vendors'] = vendor_counts['LGL_NM']\n",
    "vendor_counts"
   ]
  },
  {
   "cell_type": "code",
   "execution_count": null,
   "metadata": {},
   "outputs": [],
   "source": [
    "# for i in range(len(vendor_counts)):\n",
    "#     if vendor_counts['LGL_NM'][i] == vendor_counts['Total_Vendors'][i]:\n",
    "#         print(f\"Match at index {i}: {vendor_counts['LGL_NM'][i]} equals {vendor_counts['Total_Vendors'][i]}\")\n",
    "#     else:\n",
    "#         print(f\"No match at index {i}: {vendor_counts['LGL_NM'][i]} does not equal {vendor_counts['Total_Vendors'][i]}\")"
   ]
  },
  {
   "cell_type": "code",
   "execution_count": 45,
   "metadata": {},
   "outputs": [],
   "source": [
    "df['Number of vendors'] = df['COMMODITY_DESCRIPTION'].map(vendor_counts.set_index('COMMODITY_DESCRIPTION')['Total_Vendors'])"
   ]
  },
  {
   "cell_type": "code",
   "execution_count": 46,
   "metadata": {},
   "outputs": [
    {
     "data": {
      "image/png": "[encoded data removed]",
      "text/plain": [
       "<Figure size 640x480 with 1 Axes>"
      ]
     },
     "metadata": {},
     "output_type": "display_data"
    }
   ],
   "source": [
    "df['Number of vendors'].hist();"
   ]
  },
  {
   "cell_type": "markdown",
   "metadata": {},
   "source": [
    "We can see a commodity description where in there is a total number of vendors equal or greater than 30. Let's find out what is this commodity description."
   ]
  },
  {
   "cell_type": "code",
   "execution_count": 47,
   "metadata": {},
   "outputs": [
    {
     "name": "stdout",
     "output_type": "stream",
     "text": [
      "                                  COMMODITY_DESCRIPTION  LGL_NM  Total_Vendors\n",
      "341                 Application Software, Microcomputer     133            133\n",
      "2385  Freight and Cargo Containers (Shipping) (See C...      56             56\n",
      "5646          Souvenirs: Promotional, Advertising, etc.      51             51\n"
     ]
    }
   ],
   "source": [
    "filtered_data = vendor_counts[vendor_counts['Total_Vendors'] >= 30]\n",
    "print(filtered_data)"
   ]
  },
  {
   "cell_type": "markdown",
   "metadata": {},
   "source": [
    "**Vendor Classification:** \n",
    "\n",
    "This is among the newly introduced columns. Let's generate a fresh column and name it 'Vendor Classification'. We will further divide vendors into three distinct categories to enhance our analysis. Given that we have already computed the number of vendors for each material description, we can categorize them as follows:\n",
    "* a. Single Vendor (when the vendor count is 1)\n",
    "* b. Between 1 and 5 (when the vendor count falls between 1 and 5)\n",
    "* c. More than 5 (when the vendor count exceeds 5)\n",
    "\n",
    "Note: I have selected 5 as the upper limit for vendor count, but you can adjust this limit as per your discretion, depending on prevailing market conditions in the commodity sector."
   ]
  },
  {
   "cell_type": "code",
   "execution_count": 48,
   "metadata": {},
   "outputs": [],
   "source": [
    "# Let's create a function that would help us aiding the categorization of vendors\n",
    "def categorize_vendors(num_vendors):\n",
    "    if num_vendors == 1:\n",
    "        return 'Single Vendor'\n",
    "    elif 1 < num_vendors <= 5:\n",
    "        return 'Between 1 and 5 Vendors'\n",
    "    else:\n",
    "        return 'More than 5 Vendors'\n",
    "\n",
    "df['Vendor Class'] = df['Number of vendors'].apply(categorize_vendors)"
   ]
  },
  {
   "cell_type": "markdown",
   "metadata": {},
   "source": [
    "**Purchase Order Count:**\n",
    "\n",
    "Just like we did for the \"Number of Vendors,\" we also need to compute the 'Purchase Order Count' column. Let's introduce a new column into our dataset and name it 'Purchase Order Count.' It's important to note that each line item in our dataset corresponds to one purchase order (PO). Additionally, we have several line items where the PO field is empty, and in those cases, we have indicated \"PO NOT Available\" in our \"PO\" column.\n",
    "\n",
    "The logic for calculating the \"Purchase Order Count\" is straightforward. We simply need to tally how many times a commodity item description appears in the dataset, assuming that each occurrence represents a unique purchase order. However, it's essential to acknowledge that in practical scenarios, this assumption may not always hold true. If you encounter such situations, I recommend adopting the same approach we used for the \"Number of Vendors\" column."
   ]
  },
  {
   "cell_type": "code",
   "execution_count": 49,
   "metadata": {},
   "outputs": [
    {
     "name": "stdout",
     "output_type": "stream",
     "text": [
      "                                   COMMODITY_DESCRIPTION  Number of POs\n",
      "0                PARTS AND ACCESSORIES, FLOWMETER SYSTEM            316\n",
      "1                             NUTS, LOCK, CONDUIT, STEEL              3\n",
      "2                                           SAND, SILICA             27\n",
      "3                                      Shoes, Safety Toe            955\n",
      "4            TOOL STRAIGHTNER FOR TYPE K COPPER 3/4 INCH              1\n",
      "...                                                  ...            ...\n",
      "72848                        Lubricants, Industrial Type             98\n",
      "72849  Chlorinating and Oxidizing Agents: Bromohydant...             66\n",
      "72850                                V-Belts, Industrial             18\n",
      "72851          BOLTS, ANCHOR, HOT ROLLED STEEL, W/2 NUTS            246\n",
      "72852                                  LIGHTS, EMERGENCY            593\n",
      "\n",
      "[72853 rows x 2 columns]\n"
     ]
    }
   ],
   "source": [
    "df['Number of POs'] = df.groupby('COMMODITY_DESCRIPTION')['COMMODITY_DESCRIPTION'].transform('count')\n",
    "\n",
    "print(df[['COMMODITY_DESCRIPTION', 'Number of POs']])"
   ]
  },
  {
   "cell_type": "markdown",
   "metadata": {},
   "source": [
    "**Purchase Order Classification (PO Class):**\n",
    "\n",
    "Similar to the 'Vendor Class' column, we will categorize the 'Purchase Order Count' information into three distinct groups to aid our analysis. Since we've already determined the number of purchase orders (POs) for each material description, we can classify them as follows:\n",
    "* a. Single PO (One-time Purchases: where the PO count is 1)\n",
    "* b. Between 1 and 12 (Spot POs: where the PO count falls in the range of 1 to 12)\n",
    "* c. More than 12 (High-Frequency POs: where the PO count exceeds 12)\n",
    "\n",
    "Our primary objective in this context is to identify high-frequency POs for potential consolidation.\n",
    "\n",
    "Note: I have defined 'high-frequency POs' as those with at least 1 PO per month, equating to 12 POs per year. You can adjust this threshold based on your initial data analysis findings."
   ]
  },
  {
   "cell_type": "code",
   "execution_count": 50,
   "metadata": {},
   "outputs": [
    {
     "name": "stdout",
     "output_type": "stream",
     "text": [
      "                                   COMMODITY_DESCRIPTION  Number of POs  \\\n",
      "0                PARTS AND ACCESSORIES, FLOWMETER SYSTEM            316   \n",
      "1                             NUTS, LOCK, CONDUIT, STEEL              3   \n",
      "2                                           SAND, SILICA             27   \n",
      "3                                      Shoes, Safety Toe            955   \n",
      "4            TOOL STRAIGHTNER FOR TYPE K COPPER 3/4 INCH              1   \n",
      "...                                                  ...            ...   \n",
      "72848                        Lubricants, Industrial Type             98   \n",
      "72849  Chlorinating and Oxidizing Agents: Bromohydant...             66   \n",
      "72850                                V-Belts, Industrial             18   \n",
      "72851          BOLTS, ANCHOR, HOT ROLLED STEEL, W/2 NUTS            246   \n",
      "72852                                  LIGHTS, EMERGENCY            593   \n",
      "\n",
      "               PO Class  \n",
      "0          More than 12  \n",
      "1      Between 1 and 12  \n",
      "2          More than 12  \n",
      "3          More than 12  \n",
      "4             Single PO  \n",
      "...                 ...  \n",
      "72848      More than 12  \n",
      "72849      More than 12  \n",
      "72850      More than 12  \n",
      "72851      More than 12  \n",
      "72852      More than 12  \n",
      "\n",
      "[72853 rows x 3 columns]\n"
     ]
    }
   ],
   "source": [
    "def categorize_pos(num_pos):\n",
    "    if num_pos == 1:\n",
    "        return 'Single PO'\n",
    "    elif 1 < num_pos <= 12:\n",
    "        return 'Between 1 and 12'\n",
    "    else:\n",
    "        return 'More than 12'\n",
    "\n",
    "df['PO Class'] = df['Number of POs'].apply(categorize_pos)\n",
    "\n",
    "print(df[['COMMODITY_DESCRIPTION', 'Number of POs', 'PO Class']])"
   ]
  },
  {
   "cell_type": "markdown",
   "metadata": {},
   "source": [
    "We have successfully incorporated the additional data from the dataset. Our next step is to proceed towards achieving our objective."
   ]
  },
  {
   "cell_type": "markdown",
   "metadata": {},
   "source": [
    "\n",
    "\n",
    "<h1 id = 'result' style=\"border-bottom: 1px solid #ccc;\n",
    "                        padding-bottom: 10px;\n",
    "                        margin-bottom: 10px;\n",
    "                        font-size: 42px;\n",
    "                        font-weight: bold;\n",
    "                        font-family: Monaco\">📑 Result</h1>"
   ]
  },
  {
   "cell_type": "markdown",
   "metadata": {},
   "source": [
    "# Hidden Tail - Spend outsite negotiated contracts"
   ]
  },
  {
   "cell_type": "markdown",
   "metadata": {},
   "source": [
    "Which is the largest yet often ignored part of Tail Spend? Hidden Tail!\n",
    "\n",
    "The hidden tail is probably one of the most under-reported tail spend as it is easy to be missed. _The hidden tail is the spend where we have a contract present but do NOT have a purchase order._ In simpler words, we are looking for commodity item descriptions where we have both types of transactions — with a contract and without a contract."
   ]
  },
  {
   "cell_type": "code",
   "execution_count": 51,
   "metadata": {},
   "outputs": [
    {
     "name": "stdout",
     "output_type": "stream",
     "text": [
      "                 contract  Total_ITM_TOT_AM\n",
      "0      Contract Available      407618318.17\n",
      "1  Contract NOT Available      108255301.86\n"
     ]
    }
   ],
   "source": [
    "rows = ['contract']\n",
    "values = ['ITM_TOT_AM']\n",
    "\n",
    "pivot_table = pd.pivot_table(\n",
    "    df,\n",
    "    values=values,\n",
    "    index=rows,\n",
    "    aggfunc='sum', \n",
    "    fill_value=0)\n",
    "\n",
    "pivot_table = pivot_table.reset_index()\n",
    "pivot_table.columns = ['contract', 'Total_ITM_TOT_AM']\n",
    "pd.options.display.float_format = '{:.2f}'.format\n",
    "print(pivot_table)"
   ]
  },
  {
   "cell_type": "markdown",
   "metadata": {},
   "source": [
    "On this result, we have a Contract Available amounting to 407M. Let's investigate further."
   ]
  },
  {
   "cell_type": "code",
   "execution_count": 52,
   "metadata": {},
   "outputs": [
    {
     "name": "stdout",
     "output_type": "stream",
     "text": [
      "                 contract   PO_availability  Total_ITM_TOT_AM\n",
      "0      Contract Available      PO Available      401635212.82\n",
      "1      Contract Available  PO NOT Available        5983105.35\n",
      "2  Contract NOT Available      PO Available      108255301.86\n"
     ]
    }
   ],
   "source": [
    "rows = ['contract', 'PO_availability']\n",
    "values = ['ITM_TOT_AM']\n",
    "\n",
    "pivot_table = pd.pivot_table(\n",
    "    df,\n",
    "    values=values,\n",
    "    index=rows,\n",
    "    aggfunc='sum',\n",
    "    fill_value=0)\n",
    "\n",
    "pivot_table = pivot_table.reset_index()\n",
    "pivot_table.columns = ['contract', 'PO_availability', 'Total_ITM_TOT_AM']\n",
    "pd.options.display.float_format = '{:.2f}'.format\n",
    "print(pivot_table)"
   ]
  },
  {
   "cell_type": "code",
   "execution_count": 53,
   "metadata": {},
   "outputs": [
    {
     "data": {
      "text/plain": [
       "407618318.17"
      ]
     },
     "execution_count": 53,
     "metadata": {},
     "output_type": "execute_result"
    }
   ],
   "source": [
    "401635212.82+5983105.35"
   ]
  },
  {
   "cell_type": "markdown",
   "metadata": {},
   "source": [
    "We thoroughly examined the output exceeding 407 million and noticed that the sole contract lacking a corresponding purchase order (PO) has a value of only 5.9 million.\n",
    "\n",
    "Hence, we would say that our hidden tail is 5.9 million."
   ]
  },
  {
   "cell_type": "markdown",
   "metadata": {},
   "source": [
    "Now, let's find out the hidden tail under Spend Class = Major Spend"
   ]
  },
  {
   "cell_type": "code",
   "execution_count": 54,
   "metadata": {},
   "outputs": [
    {
     "name": "stdout",
     "output_type": "stream",
     "text": [
      "   spend_class                contract   PO_availability  Total_ITM_TOT_AM\n",
      "0  major_spend      Contract Available      PO Available      330879268.68\n",
      "1  major_spend      Contract Available  PO NOT Available        5149286.91\n",
      "2  major_spend  Contract NOT Available      PO Available       76225846.43\n",
      "3   tail_spend      Contract Available      PO Available       70755944.14\n",
      "4   tail_spend      Contract Available  PO NOT Available         833818.44\n",
      "5   tail_spend  Contract NOT Available      PO Available       32029455.43\n"
     ]
    }
   ],
   "source": [
    "rows = ['spend_class', 'contract', 'PO_availability']\n",
    "values = ['ITM_TOT_AM']\n",
    "\n",
    "pivot_table = pd.pivot_table(\n",
    "    df,\n",
    "    values=values,\n",
    "    index=rows,\n",
    "    aggfunc='sum',\n",
    "    fill_value=0)\n",
    "\n",
    "pivot_table = pivot_table.reset_index()\n",
    "pivot_table.columns = ['spend_class', 'contract', 'PO_availability', 'Total_ITM_TOT_AM']\n",
    "pd.options.display.float_format = '{:.2f}'.format\n",
    "print(pivot_table)"
   ]
  },
  {
   "cell_type": "code",
   "execution_count": 55,
   "metadata": {},
   "outputs": [
    {
     "data": {
      "text/plain": [
       "5983105.35"
      ]
     },
     "execution_count": 55,
     "metadata": {},
     "output_type": "execute_result"
    }
   ],
   "source": [
    "5149286.91+833818.44"
   ]
  },
  {
   "cell_type": "markdown",
   "metadata": {},
   "source": [
    "We have the following:\n",
    "1. 5149286.91\n",
    "2. 833818.44"
   ]
  },
  {
   "cell_type": "markdown",
   "metadata": {},
   "source": [
    "Creating a Hidden tail subset by suppliers."
   ]
  },
  {
   "cell_type": "code",
   "execution_count": 56,
   "metadata": {},
   "outputs": [
    {
     "name": "stdout",
     "output_type": "stream",
     "text": [
      "                                 COMMODITY_DESCRIPTION  \\\n",
      "0                          332 TRAFFIC SIGNAL CABINETS   \n",
      "1    A014.1    Kwik Cric MVP Kit Bound Tree # 35163...   \n",
      "2    A085 i-gel O2 Resus Pack. Small adult. INTERSU...   \n",
      "3    A105  CPAP Mask. Large Adult. O-Two Medical Te...   \n",
      "4                      ACCESSORIES FOR LAPTOP COMPUTER   \n",
      "..                                                 ...   \n",
      "514                           TROUSERS APD MEN SIZE 37   \n",
      "515                        TROUSERS APD MEN SIZE 37X30   \n",
      "516                           TROUSERS APD MEN SIZE 44   \n",
      "517                           TROUSERS WORK NAVY SZ 32   \n",
      "518                TROUSERS WORK POSTMAN BLUE SZ 32X32   \n",
      "\n",
      "                          Total_ITM_TOT_AM    LGL_NM  \n",
      "0                           Mobotrex, Inc. 172095.00  \n",
      "1                         HENRY SCHEIN INC    479.70  \n",
      "2                 BOUND TREE MEDICAL L L C   1334.40  \n",
      "3                         HENRY SCHEIN INC    215.60  \n",
      "4    AUSTIN RIBBON & COMPUTER SUPPLIES INC   1286.23  \n",
      "..                                     ...       ...  \n",
      "514                     FECHHEIMER BROS CO     82.46  \n",
      "515                     FECHHEIMER BROS CO    242.40  \n",
      "516                     FECHHEIMER BROS CO    350.10  \n",
      "517                SERVICEWEAR APPAREL INC     54.56  \n",
      "518                SERVICEWEAR APPAREL INC     68.20  \n",
      "\n",
      "[519 rows x 3 columns]\n"
     ]
    }
   ],
   "source": [
    "# Filter the dataset by hidden tail criteria (major_spend)\n",
    "filtered_df = df[(df['spend_class'] == 'major_spend') & (df['contract'] == 'Contract Available') & (df['PO_availability'] == 'PO NOT Available')]\n",
    "rows = ['COMMODITY_DESCRIPTION', 'LGL_NM']\n",
    "values = ['ITM_TOT_AM']\n",
    "\n",
    "pivot_table_major_spend = pd.pivot_table(\n",
    "    filtered_df,\n",
    "    values=values,\n",
    "    index=rows,\n",
    "    aggfunc='sum', \n",
    "    fill_value=0)\n",
    "\n",
    "pivot_table_major_spend = pivot_table_major_spend.reset_index()\n",
    "pivot_table_major_spend.columns = ['COMMODITY_DESCRIPTION', 'Total_ITM_TOT_AM', 'LGL_NM']\n",
    "pd.options.display.float_format = '{:.2f}'.format\n",
    "print(pivot_table_major_spend)"
   ]
  },
  {
   "cell_type": "code",
   "execution_count": 57,
   "metadata": {},
   "outputs": [
    {
     "name": "stdout",
     "output_type": "stream",
     "text": [
      "                                COMMODITY_DESCRIPTION  \\\n",
      "0                                    Tape, Electrical   \n",
      "1                                    Tape, Electrical   \n",
      "2   Telecommunication Parts and Accessories (Not O...   \n",
      "3   Telephone Systems (2-60 Stations), Electronic Key   \n",
      "4   Test Equipment and Supplies: Criminology Kits,...   \n",
      "..                                                ...   \n",
      "70                                       Work Clothes   \n",
      "71                                       Work Clothes   \n",
      "72                                       Work Clothes   \n",
      "73                                       Work Clothes   \n",
      "74                                 pillows disposable   \n",
      "\n",
      "                   Total_ITM_TOT_AM   LGL_NM  \n",
      "0                  STUART C IRBY CO   110.00  \n",
      "1             STUART C IRBY COMPANY  3446.07  \n",
      "2                       ANIXTER INC 11471.25  \n",
      "3                       ANIXTER INC   128.48  \n",
      "4   SIRCHIE ACQUISITION COMPANY LLC  6992.00  \n",
      "..                              ...      ...  \n",
      "70                        GALLS LLC   214.95  \n",
      "71              GT DISTRIBUTORS INC  1054.10  \n",
      "72    MILLER UNIFORMS & EMBLEMS INC  4907.24  \n",
      "73                SAFETY SUPPLY INC  7009.75  \n",
      "74    MCKESSON MEDICAL-SURGICAL INC   343.68  \n",
      "\n",
      "[75 rows x 3 columns]\n"
     ]
    }
   ],
   "source": [
    "# Filter the dataset by hidden tail criteria (tail_spend)\n",
    "filtered_df = df[(df['spend_class'] == 'tail_spend') & (df['contract'] == 'Contract Available') & (df['PO_availability'] == 'PO NOT Available')]\n",
    "rows = ['COMMODITY_DESCRIPTION', 'LGL_NM']\n",
    "values = ['ITM_TOT_AM']\n",
    "\n",
    "pivot_table_tail_spend = pd.pivot_table(\n",
    "    filtered_df,\n",
    "    values=values,\n",
    "    index=rows,\n",
    "    aggfunc='sum', \n",
    "    fill_value=0)\n",
    "\n",
    "pivot_table_tail_spend = pivot_table_tail_spend.reset_index()\n",
    "pivot_table_tail_spend.columns = ['COMMODITY_DESCRIPTION', 'Total_ITM_TOT_AM', 'LGL_NM']\n",
    "pd.options.display.float_format = '{:.2f}'.format\n",
    "print(pivot_table_tail_spend)"
   ]
  },
  {
   "cell_type": "markdown",
   "metadata": {},
   "source": [
    "<h1 id = 'dataset' style=\"border-bottom: 1px solid #ccc;\n",
    "                        padding-bottom: 10px;\n",
    "                        margin-bottom: 10px;\n",
    "                        font-size: 42px;\n",
    "                        font-weight: bold;\n",
    "                        font-family: Monaco\">⚙️ Generating a new Dataset</h1>"
   ]
  },
  {
   "cell_type": "code",
   "execution_count": 58,
   "metadata": {},
   "outputs": [],
   "source": [
    "# Save the file in excel file format\n",
    "pivot_table_major_spend.to_excel('a1_major_spend_hidden_tail_by_vendors.xlsx', index=False)\n",
    "pivot_table_tail_spend.to_excel('a2_tail_spend_hidden_tail_by_vendors.xlsx', index=False)"
   ]
  },
  {
   "cell_type": "markdown",
   "metadata": {},
   "source": [
    "Congratulations for reaching this point! We have done an excellent job in uncovering concealed tail spend (hidden tail) on our dataset. If you would like to have a copy. The files are uploaded [here](https://github.com/sedeba19/Tail-Spend-Dataset/tree/main/a.%20hidden_tail_spend).\n",
    "\n",
    "We can use these files for further analysis having the tail spend by vendors."
   ]
  },
  {
   "cell_type": "markdown",
   "metadata": {},
   "source": [
    "<h1 id = 'dataset' style=\"border-bottom: 1px solid #ccc;\n",
    "                        padding-bottom: 10px;\n",
    "                        margin-bottom: 10px;\n",
    "                        font-size: 42px;\n",
    "                        font-weight: bold;\n",
    "                        font-family: Monaco\">✍🏻 Conclusion</h1>"
   ]
  },
  {
   "cell_type": "markdown",
   "metadata": {},
   "source": [
    "Efficient tail spend management aims to streamline and optimize these smaller, less strategic purchases to reduce costs, improve supplier relationships, and enhance overall procurement efficiency. By gaining better visibility into tail spend, organizations can identify cost-saving opportunities, negotiate better terms with suppliers, and implement more effective procurement strategies.\n",
    "\n",
    "Characteristics of tail spend include:\n",
    "\n",
    "1. High Volume, Low Value: Tail spend transactions are numerous but individually have low monetary value. They might include office supplies, small equipment, maintenance services, or even ad-hoc purchases.\n",
    "\n",
    "2. Limited Oversight: Due to their small size and infrequency, tail spend items are often not subject to the same level of scrutiny and strategic sourcing as larger, more significant procurement categories.\n",
    "\n",
    "3. Diverse Suppliers: Tail spend often involves a wide range of suppliers, as different departments or individuals within a company may make these purchases independently.\n",
    "\n",
    "4. Inefficiencies: Because tail spend is often decentralized and not well-managed, it can lead to inefficiencies, higher costs, and missed opportunities for cost savings.\n",
    "\n",
    "5. Cumulative Impact: Despite the relatively small value of each individual transaction, the cumulative impact of tail spend across an organization can be substantial and can account for a significant portion of overall procurement expenses.\n",
    "\n",
    "Remember that tail spend management is not a one-time effort but an ongoing commitment to optimizing your procurement processes.\n",
    "\n",
    "Thank you."
   ]
  }
 ],
 "metadata": {
  "kernelspec": {
   "display_name": "Python 3 (ipykernel)",
   "language": "python",
   "name": "python3"
  },
  "language_info": {
   "codemirror_mode": {
    "name": "ipython",
    "version": 3
   },
   "file_extension": ".py",
   "mimetype": "text/x-python",
   "name": "python",
   "nbconvert_exporter": "python",
   "pygments_lexer": "ipython3",
   "version": "3.8.18"
  }
 },
 "nbformat": 4,
 "nbformat_minor": 2
}
